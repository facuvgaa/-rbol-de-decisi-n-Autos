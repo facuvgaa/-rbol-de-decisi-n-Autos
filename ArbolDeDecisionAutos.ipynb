{
  "nbformat": 4,
  "nbformat_minor": 0,
  "metadata": {
    "colab": {
      "name": "ArbolDeDecisionAutos.ipynb",
      "provenance": [],
      "collapsed_sections": []
    },
    "kernelspec": {
      "name": "python3",
      "display_name": "Python 3"
    },
    "language_info": {
      "name": "python"
    }
  },
  "cells": [
    {
      "cell_type": "code",
      "metadata": {
        "id": "i4PfkC-gNqHU"
      },
      "source": [
        "import tensorflow as tf\n",
        "import matplotlib.pyplot as plt\n",
        "import pandas as pd \n",
        "import numpy as np\n",
        "\n",
        "\n"
      ],
      "execution_count": 110,
      "outputs": []
    },
    {
      "cell_type": "code",
      "metadata": {
        "id": "B1CcU9xiQvQ2"
      },
      "source": [
        "data = pd.read_csv('/content/car.csv', header = None)\n"
      ],
      "execution_count": 94,
      "outputs": []
    },
    {
      "cell_type": "code",
      "metadata": {
        "id": "JQwi5v73TQF1"
      },
      "source": [
        "data.columns = ['price', 'maintaince', 'number_doors', 'capacity','size_lug','safety','desicion']"
      ],
      "execution_count": 95,
      "outputs": []
    },
    {
      "cell_type": "code",
      "metadata": {
        "colab": {
          "base_uri": "https://localhost:8080/",
          "height": 204
        },
        "id": "ltL7nXOpUMEc",
        "outputId": "0cd25f81-475c-4ec7-f15a-3013d1258d50"
      },
      "source": [
        "data.sample(5)"
      ],
      "execution_count": 96,
      "outputs": [
        {
          "output_type": "execute_result",
          "data": {
            "text/html": [
              "<div>\n",
              "<style scoped>\n",
              "    .dataframe tbody tr th:only-of-type {\n",
              "        vertical-align: middle;\n",
              "    }\n",
              "\n",
              "    .dataframe tbody tr th {\n",
              "        vertical-align: top;\n",
              "    }\n",
              "\n",
              "    .dataframe thead th {\n",
              "        text-align: right;\n",
              "    }\n",
              "</style>\n",
              "<table border=\"1\" class=\"dataframe\">\n",
              "  <thead>\n",
              "    <tr style=\"text-align: right;\">\n",
              "      <th></th>\n",
              "      <th>price</th>\n",
              "      <th>maintaince</th>\n",
              "      <th>number_doors</th>\n",
              "      <th>capacity</th>\n",
              "      <th>size_lug</th>\n",
              "      <th>safety</th>\n",
              "      <th>desicion</th>\n",
              "    </tr>\n",
              "  </thead>\n",
              "  <tbody>\n",
              "    <tr>\n",
              "      <th>1009</th>\n",
              "      <td>med</td>\n",
              "      <td>high</td>\n",
              "      <td>3</td>\n",
              "      <td>4</td>\n",
              "      <td>small</td>\n",
              "      <td>med</td>\n",
              "      <td>unacc</td>\n",
              "    </tr>\n",
              "    <tr>\n",
              "      <th>48</th>\n",
              "      <td>vhigh</td>\n",
              "      <td>vhigh</td>\n",
              "      <td>3</td>\n",
              "      <td>more</td>\n",
              "      <td>med</td>\n",
              "      <td>low</td>\n",
              "      <td>unacc</td>\n",
              "    </tr>\n",
              "    <tr>\n",
              "      <th>1446</th>\n",
              "      <td>low</td>\n",
              "      <td>high</td>\n",
              "      <td>3</td>\n",
              "      <td>4</td>\n",
              "      <td>big</td>\n",
              "      <td>low</td>\n",
              "      <td>unacc</td>\n",
              "    </tr>\n",
              "    <tr>\n",
              "      <th>1105</th>\n",
              "      <td>med</td>\n",
              "      <td>med</td>\n",
              "      <td>2</td>\n",
              "      <td>more</td>\n",
              "      <td>big</td>\n",
              "      <td>med</td>\n",
              "      <td>acc</td>\n",
              "    </tr>\n",
              "    <tr>\n",
              "      <th>361</th>\n",
              "      <td>vhigh</td>\n",
              "      <td>low</td>\n",
              "      <td>3</td>\n",
              "      <td>4</td>\n",
              "      <td>small</td>\n",
              "      <td>med</td>\n",
              "      <td>unacc</td>\n",
              "    </tr>\n",
              "  </tbody>\n",
              "</table>\n",
              "</div>"
            ],
            "text/plain": [
              "      price maintaince number_doors capacity size_lug safety desicion\n",
              "1009    med       high            3        4    small    med    unacc\n",
              "48    vhigh      vhigh            3     more      med    low    unacc\n",
              "1446    low       high            3        4      big    low    unacc\n",
              "1105    med        med            2     more      big    med      acc\n",
              "361   vhigh        low            3        4    small    med    unacc"
            ]
          },
          "metadata": {},
          "execution_count": 96
        }
      ]
    },
    {
      "cell_type": "code",
      "metadata": {
        "id": "f6R-fxUaUL9Q"
      },
      "source": [
        "data.price.replace((\"vhigh\",\"high\",\"med\",\"low\"),(4,3,2,1), inplace = True)\n",
        "data.maintaince.replace((\"vhigh\",\"high\",\"med\",\"low\"),(4,3,2,1), inplace = True)\n",
        "data.number_doors.replace((\"2\",\"3\",\"4\",\"5more\"),(4,3,2,1), inplace = True)\n",
        "data.capacity.replace((\"2\",\"4\",\"more\"),(1,2,3), inplace = True)\n",
        "data.size_lug.replace((\"small\",\"med\",\"big\"), (1, 2 ,3), inplace = True)\n",
        "data.safety.replace((\"low\",\"med\",\"high\"),(1,2,3), inplace = True)\n",
        "\n",
        "\n"
      ],
      "execution_count": 97,
      "outputs": []
    },
    {
      "cell_type": "code",
      "metadata": {
        "id": "xjL5RszZactR"
      },
      "source": [
        "data[\"desicion\"].replace((\"unacc\",\"acc\",\"good\",\"very good\"),(1,2,3,4), inplace =True)\n",
        "\n"
      ],
      "execution_count": 105,
      "outputs": []
    },
    {
      "cell_type": "code",
      "metadata": {
        "id": "YEdsEmatiuur"
      },
      "source": [
        "dataset = data.values\n",
        "X = dataset[:, 0:6]\n",
        "Y = np.asarray(dataset[:,6], dtype = \"S6\" )"
      ],
      "execution_count": 112,
      "outputs": []
    },
    {
      "cell_type": "code",
      "metadata": {
        "id": "6XHGU5gN0OpU"
      },
      "source": [
        "from sklearn import tree\n",
        "from sklearn.model_selection import train_test_split, cross_val_score\n",
        "from sklearn import metrics\n",
        "\n",
        "\n"
      ],
      "execution_count": 115,
      "outputs": []
    },
    {
      "cell_type": "code",
      "metadata": {
        "id": "B4vL4xGm0u9c"
      },
      "source": [
        "X_train, X_test, Y_train, Y_test = train_test_split(X,Y, test_size = 0.2, random_state = 0)"
      ],
      "execution_count": 116,
      "outputs": []
    },
    {
      "cell_type": "code",
      "metadata": {
        "id": "qZ-s5y813Vu9"
      },
      "source": [
        "tr = tree.DecisionTreeClassifier(max_depth=10)"
      ],
      "execution_count": 118,
      "outputs": []
    },
    {
      "cell_type": "code",
      "metadata": {
        "colab": {
          "base_uri": "https://localhost:8080/"
        },
        "id": "hvaaMsvc3k85",
        "outputId": "8d2cfed3-3076-4aa3-9687-efc2ff8fe1e4"
      },
      "source": [
        "tr.fit(X_train, Y_train)"
      ],
      "execution_count": 123,
      "outputs": [
        {
          "output_type": "execute_result",
          "data": {
            "text/plain": [
              "DecisionTreeClassifier(max_depth=10)"
            ]
          },
          "metadata": {},
          "execution_count": 123
        }
      ]
    },
    {
      "cell_type": "code",
      "metadata": {
        "id": "VbE9wCM838W7"
      },
      "source": [
        "y_pred = tr.predict(X_test)"
      ],
      "execution_count": 125,
      "outputs": []
    },
    {
      "cell_type": "code",
      "metadata": {
        "colab": {
          "base_uri": "https://localhost:8080/"
        },
        "id": "fheq0SQF4kZ-",
        "outputId": "c96e7773-7f22-42f7-de4f-f9d3b40e1ff3"
      },
      "source": [
        "y_pred"
      ],
      "execution_count": 126,
      "outputs": [
        {
          "output_type": "execute_result",
          "data": {
            "text/plain": [
              "array([b'2', b'1', b'1', b'1', b'1', b'3', b'1', b'2', b'3', b'1', b'1',\n",
              "       b'1', b'2', b'1', b'1', b'2', b'1', b'1', b'2', b'1', b'3', b'2',\n",
              "       b'3', b'1', b'1', b'1', b'1', b'1', b'1', b'1', b'3', b'2', b'1',\n",
              "       b'2', b'3', b'1', b'1', b'1', b'1', b'1', b'1', b'1', b'1', b'1',\n",
              "       b'vgood', b'1', b'1', b'2', b'1', b'1', b'1', b'1', b'1', b'1',\n",
              "       b'1', b'1', b'1', b'1', b'1', b'1', b'2', b'1', b'1', b'1', b'1',\n",
              "       b'2', b'1', b'1', b'1', b'1', b'1', b'2', b'1', b'2', b'3', b'2',\n",
              "       b'1', b'1', b'2', b'1', b'2', b'2', b'1', b'1', b'1', b'1', b'1',\n",
              "       b'3', b'1', b'1', b'1', b'2', b'1', b'1', b'1', b'vgood', b'1',\n",
              "       b'2', b'2', b'1', b'1', b'1', b'2', b'1', b'vgood', b'2', b'1',\n",
              "       b'2', b'1', b'1', b'1', b'1', b'1', b'2', b'1', b'3', b'1', b'1',\n",
              "       b'1', b'1', b'1', b'1', b'2', b'1', b'1', b'1', b'1', b'2', b'3',\n",
              "       b'1', b'1', b'1', b'2', b'1', b'1', b'1', b'1', b'1', b'1', b'1',\n",
              "       b'1', b'1', b'1', b'2', b'1', b'1', b'2', b'1', b'2', b'2', b'2',\n",
              "       b'2', b'1', b'1', b'1', b'2', b'1', b'1', b'1', b'1', b'2', b'1',\n",
              "       b'1', b'1', b'2', b'1', b'1', b'1', b'1', b'1', b'1', b'1', b'1',\n",
              "       b'1', b'2', b'1', b'1', b'1', b'1', b'1', b'2', b'2', b'2', b'1',\n",
              "       b'2', b'1', b'3', b'1', b'1', b'1', b'1', b'2', b'1', b'1', b'1',\n",
              "       b'2', b'1', b'3', b'1', b'1', b'1', b'1', b'2', b'1', b'1', b'1',\n",
              "       b'1', b'1', b'1', b'1', b'1', b'2', b'1', b'1', b'1', b'1', b'1',\n",
              "       b'2', b'1', b'1', b'1', b'2', b'1', b'vgood', b'1', b'1', b'1',\n",
              "       b'vgood', b'1', b'1', b'1', b'1', b'2', b'1', b'1', b'1', b'1',\n",
              "       b'1', b'1', b'1', b'1', b'1', b'1', b'1', b'3', b'1', b'2', b'1',\n",
              "       b'1', b'1', b'1', b'1', b'3', b'2', b'3', b'2', b'2', b'1', b'1',\n",
              "       b'1', b'2', b'1', b'1', b'2', b'1', b'1', b'vgood', b'1', b'2',\n",
              "       b'1', b'1', b'1', b'2', b'1', b'2', b'1', b'1', b'1', b'1', b'1',\n",
              "       b'1', b'1', b'2', b'1', b'1', b'2', b'1', b'vgood', b'3', b'1',\n",
              "       b'1', b'1', b'1', b'1', b'1', b'1', b'1', b'1', b'1', b'2', b'1',\n",
              "       b'2', b'2', b'3', b'3', b'1', b'2', b'1', b'2', b'1', b'3', b'2',\n",
              "       b'1', b'1', b'1', b'1', b'1', b'1', b'1', b'2', b'1', b'1', b'2',\n",
              "       b'1', b'2', b'1', b'1', b'1', b'1', b'1', b'2', b'1', b'3', b'1',\n",
              "       b'3', b'1', b'1', b'1', b'vgood', b'1', b'1', b'vgood', b'1', b'2',\n",
              "       b'1', b'2'], dtype='|S6')"
            ]
          },
          "metadata": {},
          "execution_count": 126
        }
      ]
    },
    {
      "cell_type": "code",
      "metadata": {
        "id": "u-2EXvmI5CH2"
      },
      "source": [
        "score = tr.score(X_test, Y_test)"
      ],
      "execution_count": 140,
      "outputs": []
    },
    {
      "cell_type": "code",
      "metadata": {
        "colab": {
          "base_uri": "https://localhost:8080/"
        },
        "id": "QN83p-uS5P_6",
        "outputId": "70bcfba6-111f-4622-f013-b7da2924c721"
      },
      "source": [
        "print(\"precision del modelo es %0.4f\"% (score) )"
      ],
      "execution_count": 139,
      "outputs": [
        {
          "output_type": "stream",
          "name": "stdout",
          "text": [
            "precision del modelo es 0.9653\n"
          ]
        }
      ]
    },
    {
      "cell_type": "code",
      "metadata": {
        "id": "gqQDEEpO7IBf"
      },
      "source": [
        ""
      ],
      "execution_count": null,
      "outputs": []
    }
  ]
}